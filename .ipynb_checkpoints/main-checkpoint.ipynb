{
 "cells": [
  {
   "cell_type": "code",
   "execution_count": null,
   "id": "b5d6c402-ec2c-413f-acdf-458c96cbf226",
   "metadata": {},
   "outputs": [],
   "source": [
    "import requests\n",
    "import ollama\n",
    "import os\n",
    "from dotenv import load_dotenv\n",
    "from bs4 import BeautifulSoup\n",
    "from IPython.display import Markdown, display\n",
    "\n",
    "#I am using llama3.2 here, change it if needed.\n",
    "model = 'llama3.2'"
   ]
  },
  {
   "cell_type": "code",
   "execution_count": null,
   "id": "5e97c035-dec7-4555-829e-b4e350e8073e",
   "metadata": {},
   "outputs": [],
   "source": [
    "#function responsible for scraping the news website\n",
    "\n",
    "headers = {\"User-Agent\": \"Mozilla/5.0 (Windows NT 10.0; Win64; x64) AppleWebKit/537.36 (KHTML, like Gecko) Chrome/117.0.0.0 Safari/537.36\"}\n",
    "def get_website_content(url):\n",
    "    response = requests.get(url, headers=headers)\n",
    "\n",
    "    soap = BeautifulSoup(response.content)\n",
    "    for irrelevant in soap.body(['script', 'img', 'style']):\n",
    "        irrelevant.decompose()\n",
    "\n",
    "    return {\"title\": soap.title, \"content\": soap.get_text(separator=\"\\n\", strip=True)}"
   ]
  },
  {
   "cell_type": "code",
   "execution_count": null,
   "id": "5743f933-1d89-4fe6-8518-b18da51ffb77",
   "metadata": {},
   "outputs": [],
   "source": [
    "class Website:\n",
    "    def __init__(self, url):\n",
    "        website_data = get_website_content(url)\n",
    "        self.title = website_data[\"title\"]\n",
    "        self.content = website_data[\"content\"]\n",
    "        "
   ]
  },
  {
   "cell_type": "code",
   "execution_count": null,
   "id": "569d5e95-0bb8-4294-a586-ea0ad6c3f59d",
   "metadata": {},
   "outputs": [],
   "source": [
    "#setting both system and user prompts\n",
    "\n",
    "def ai_request(website):\n",
    "    system_prompt = \"You are a briliant sumarizer that focus only on good news, removing any and every bad news \\n\"\n",
    "    \"(something is bad when it mentions anything harmful, and/or something that might make people sad) \\n\"\n",
    "    \"Remember, we only care about good news!!!\"\n",
    "\n",
    "    user_prompt = f\"I need a good summary of the website with title {website.title}. \\n\"\n",
    "    \"I need to know all the good things that are currently happening around the world. \\n\"\n",
    "    user_prompt+= f\"The website content is {website.content}\"\n",
    "\n",
    "    messages = [\n",
    "        {\"role\": \"system\", \"content\": system_prompt},\n",
    "        {\"role\": \"user\", \"content\": system_prompt},\n",
    "    ]\n",
    "    \n",
    "    response = ollama.chat(model=model, messages=messages)\n",
    "    return response.message.content"
   ]
  },
  {
   "cell_type": "code",
   "execution_count": null,
   "id": "80c4d903-7eee-47c8-8100-47cf4eb887bf",
   "metadata": {},
   "outputs": [],
   "source": [
    "def get_summary(url):\n",
    "    website = Website(url)\n",
    "    response = ai_request(website)\n",
    "    display(Markdown(response))\n"
   ]
  },
  {
   "cell_type": "code",
   "execution_count": null,
   "id": "f8bb7e47-c056-4f26-b294-323f1974c113",
   "metadata": {},
   "outputs": [],
   "source": [
    "get_summary(\"https://cnn.com\")"
   ]
  },
  {
   "cell_type": "code",
   "execution_count": null,
   "id": "615498a3-3b31-44f0-af47-ad78e91b6d2e",
   "metadata": {},
   "outputs": [],
   "source": []
  }
 ],
 "metadata": {
  "kernelspec": {
   "display_name": "Python 3 (ipykernel)",
   "language": "python",
   "name": "python3"
  },
  "language_info": {
   "codemirror_mode": {
    "name": "ipython",
    "version": 3
   },
   "file_extension": ".py",
   "mimetype": "text/x-python",
   "name": "python",
   "nbconvert_exporter": "python",
   "pygments_lexer": "ipython3",
   "version": "3.11.13"
  }
 },
 "nbformat": 4,
 "nbformat_minor": 5
}
